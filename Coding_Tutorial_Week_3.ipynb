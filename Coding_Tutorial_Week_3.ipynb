{
 "cells": [
  {
   "cell_type": "code",
   "execution_count": 1,
   "metadata": {
    "scrolled": true
   },
   "outputs": [
    {
     "name": "stdout",
     "output_type": "stream",
     "text": [
      "2.0.0\n"
     ]
    }
   ],
   "source": [
    "import tensorflow as tf\n",
    "print(tf.__version__)"
   ]
  },
  {
   "cell_type": "markdown",
   "metadata": {},
   "source": [
    "# Validation, regularisation and callbacks"
   ]
  },
  {
   "cell_type": "markdown",
   "metadata": {},
   "source": [
    " ## Coding tutorials\n",
    " #### [1. Validation sets](#coding_tutorial_1)\n",
    " #### [2. Model regularisation](#coding_tutorial_2)\n",
    " #### [3. Introduction to callbacks](#coding_tutorial_3)\n",
    " #### [4. Early stopping / patience](#coding_tutorial_4)"
   ]
  },
  {
   "cell_type": "markdown",
   "metadata": {},
   "source": [
    "***\n",
    "<a id=\"coding_tutorial_1\"></a>\n",
    "## Validation sets"
   ]
  },
  {
   "cell_type": "markdown",
   "metadata": {},
   "source": [
    "#### Load the data"
   ]
  },
  {
   "cell_type": "code",
   "execution_count": 2,
   "metadata": {},
   "outputs": [
    {
     "name": "stdout",
     "output_type": "stream",
     "text": [
      ".. _diabetes_dataset:\n",
      "\n",
      "Diabetes dataset\n",
      "----------------\n",
      "\n",
      "Ten baseline variables, age, sex, body mass index, average blood\n",
      "pressure, and six blood serum measurements were obtained for each of n =\n",
      "442 diabetes patients, as well as the response of interest, a\n",
      "quantitative measure of disease progression one year after baseline.\n",
      "\n",
      "**Data Set Characteristics:**\n",
      "\n",
      "  :Number of Instances: 442\n",
      "\n",
      "  :Number of Attributes: First 10 columns are numeric predictive values\n",
      "\n",
      "  :Target: Column 11 is a quantitative measure of disease progression one year after baseline\n",
      "\n",
      "  :Attribute Information:\n",
      "      - Age\n",
      "      - Sex\n",
      "      - Body mass index\n",
      "      - Average blood pressure\n",
      "      - S1\n",
      "      - S2\n",
      "      - S3\n",
      "      - S4\n",
      "      - S5\n",
      "      - S6\n",
      "\n",
      "Note: Each of these 10 feature variables have been mean centered and scaled by the standard deviation times `n_samples` (i.e. the sum of squares of each column totals 1).\n",
      "\n",
      "Source URL:\n",
      "http://www4.stat.ncsu.edu/~boos/var.select/diabetes.html\n",
      "\n",
      "For more information see:\n",
      "Bradley Efron, Trevor Hastie, Iain Johnstone and Robert Tibshirani (2004) \"Least Angle Regression,\" Annals of Statistics (with discussion), 407-499.\n",
      "(http://web.stanford.edu/~hastie/Papers/LARS/LeastAngle_2002.pdf)\n"
     ]
    }
   ],
   "source": [
    "# Load the diabetes dataset\n",
    "\n",
    "from sklearn.datasets import load_diabetes\n",
    "\n",
    "diabetes_dataset = load_diabetes()\n",
    "print(diabetes_dataset[\"DESCR\"])"
   ]
  },
  {
   "cell_type": "code",
   "execution_count": 3,
   "metadata": {},
   "outputs": [
    {
     "name": "stdout",
     "output_type": "stream",
     "text": [
      "dict_keys(['data', 'target', 'DESCR', 'feature_names', 'data_filename', 'target_filename'])\n"
     ]
    }
   ],
   "source": [
    "# Save the input and target variables\n",
    "\n",
    "print(diabetes_dataset.keys())\n",
    "data = diabetes_dataset[\"data\"]\n",
    "targets = diabetes_dataset[\"target\"]"
   ]
  },
  {
   "cell_type": "code",
   "execution_count": 4,
   "metadata": {},
   "outputs": [
    {
     "name": "stdout",
     "output_type": "stream",
     "text": [
      "[151.  75. 141. 206. 135.  97. 138.  63. 110. 310.]\n",
      "[-0.01471948 -1.00165882 -0.14457991  0.69951294 -0.22249618 -0.71596585\n",
      " -0.18353805 -1.15749134 -0.54714728  2.05006151]\n"
     ]
    }
   ],
   "source": [
    "# Normalise the target data (this will make clearer training curves)\n",
    "print(targets[:10])\n",
    "targets = (targets - targets.mean(axis=0)) / targets.std()\n",
    "# Z normalization ? \n",
    "\n",
    "print(targets[:10])"
   ]
  },
  {
   "cell_type": "code",
   "execution_count": 5,
   "metadata": {},
   "outputs": [
    {
     "name": "stdout",
     "output_type": "stream",
     "text": [
      "(397, 10)\n",
      "(45, 10)\n",
      "(397,)\n",
      "(45,)\n"
     ]
    }
   ],
   "source": [
    "# Split the data into train and test sets\n",
    "\n",
    "from sklearn.model_selection import train_test_split\n",
    "\n",
    "train_data, test_data, train_targets, test_targets = train_test_split(data, targets, test_size=0.1) # 10% of train data is test data\n",
    "\n",
    "print(train_data.shape)\n",
    "print(test_data.shape)\n",
    "print(train_targets.shape)\n",
    "print(test_targets.shape)"
   ]
  },
  {
   "cell_type": "markdown",
   "metadata": {},
   "source": [
    "#### Train a feedforward neural network model"
   ]
  },
  {
   "cell_type": "code",
   "execution_count": 6,
   "metadata": {},
   "outputs": [],
   "source": [
    "# Build the model\n",
    "\n",
    "from tensorflow.keras.models import Sequential\n",
    "from tensorflow.keras.layers import Dense\n",
    "\n",
    "def get_model():\n",
    "    model = Sequential([\n",
    "        Dense(128, activation=\"relu\", input_shape=(train_data.shape[1],)),\n",
    "        Dense(128, activation=\"relu\"),\n",
    "        Dense(128, activation=\"relu\"),\n",
    "        Dense(128, activation=\"relu\"),\n",
    "        Dense(128, activation=\"relu\"),\n",
    "        Dense(128, activation=\"relu\"),\n",
    "        Dense(1)\n",
    "    ])\n",
    "    return model\n",
    "\n",
    "model = get_model()"
   ]
  },
  {
   "cell_type": "code",
   "execution_count": 7,
   "metadata": {},
   "outputs": [
    {
     "name": "stdout",
     "output_type": "stream",
     "text": [
      "Model: \"sequential\"\n",
      "_________________________________________________________________\n",
      "Layer (type)                 Output Shape              Param #   \n",
      "=================================================================\n",
      "dense (Dense)                (None, 128)               1408      \n",
      "_________________________________________________________________\n",
      "dense_1 (Dense)              (None, 128)               16512     \n",
      "_________________________________________________________________\n",
      "dense_2 (Dense)              (None, 128)               16512     \n",
      "_________________________________________________________________\n",
      "dense_3 (Dense)              (None, 128)               16512     \n",
      "_________________________________________________________________\n",
      "dense_4 (Dense)              (None, 128)               16512     \n",
      "_________________________________________________________________\n",
      "dense_5 (Dense)              (None, 128)               16512     \n",
      "_________________________________________________________________\n",
      "dense_6 (Dense)              (None, 1)                 129       \n",
      "=================================================================\n",
      "Total params: 84,097\n",
      "Trainable params: 84,097\n",
      "Non-trainable params: 0\n",
      "_________________________________________________________________\n"
     ]
    }
   ],
   "source": [
    "# Print the model summary\n",
    "\n",
    "model.summary()"
   ]
  },
  {
   "cell_type": "code",
   "execution_count": 8,
   "metadata": {},
   "outputs": [],
   "source": [
    "# Compile the model\n",
    "\n",
    "model.compile(\n",
    "    optimizer=\"adam\",\n",
    "    loss=\"mse\",\n",
    "    metrics=[\"mae\"]\n",
    ")"
   ]
  },
  {
   "cell_type": "code",
   "execution_count": 9,
   "metadata": {},
   "outputs": [],
   "source": [
    "# Train the model, with some of the data reserved for validation\n",
    "\n",
    "history = model.fit(train_data, train_targets, epochs=100, validation_split=0.15, batch_size=64, verbose=False)"
   ]
  },
  {
   "cell_type": "code",
   "execution_count": 10,
   "metadata": {},
   "outputs": [
    {
     "name": "stdout",
     "output_type": "stream",
     "text": [
      "45/1 - 0s - loss: 1.4906 - mae: 0.9115\n"
     ]
    },
    {
     "data": {
      "text/plain": [
       "[1.3593731615278455, 0.9115301]"
      ]
     },
     "execution_count": 10,
     "metadata": {},
     "output_type": "execute_result"
    }
   ],
   "source": [
    "# Evaluate the model on the test set\n",
    "\n",
    "model.evaluate(test_data, test_targets, verbose=2)"
   ]
  },
  {
   "cell_type": "markdown",
   "metadata": {},
   "source": [
    "#### Plot the learning curves"
   ]
  },
  {
   "cell_type": "code",
   "execution_count": 11,
   "metadata": {},
   "outputs": [],
   "source": [
    "import matplotlib.pyplot as plt\n",
    "%matplotlib inline"
   ]
  },
  {
   "cell_type": "code",
   "execution_count": 12,
   "metadata": {},
   "outputs": [
    {
     "data": {
      "image/png": "[encoded data removed]",
      "text/plain": [
       "<Figure size 432x288 with 1 Axes>"
      ]
     },
     "metadata": {
      "needs_background": "light"
     },
     "output_type": "display_data"
    }
   ],
   "source": [
    "# Plot the training and validation loss\n",
    "\n",
    "plt.plot(history.history['loss'])\n",
    "plt.plot(history.history['val_loss'])\n",
    "plt.title('Loss vs. epochs')\n",
    "plt.ylabel('Loss')\n",
    "plt.xlabel('Epoch')\n",
    "plt.legend(['Training', 'Validation'], loc='upper right')\n",
    "plt.show()\n",
    "\n",
    "## Vastly overfits training data"
   ]
  },
  {
   "cell_type": "markdown",
   "metadata": {},
   "source": [
    "***\n",
    "<a id=\"coding_tutorial_2\"></a>\n",
    "## Model regularisation"
   ]
  },
  {
   "cell_type": "markdown",
   "metadata": {},
   "source": [
    "#### Adding regularisation with weight decay and dropout"
   ]
  },
  {
   "cell_type": "code",
   "execution_count": 13,
   "metadata": {},
   "outputs": [],
   "source": [
    "from tensorflow.keras.layers import Dropout\n",
    "from tensorflow.keras import regularizers"
   ]
  },
  {
   "cell_type": "code",
   "execution_count": 14,
   "metadata": {},
   "outputs": [],
   "source": [
    "def get_regularised_model(wd, rate):\n",
    "    model = Sequential([\n",
    "        Dense(128, activation=\"relu\", input_shape=(train_data.shape[1],), kernel_regularizer=regularizers.l2(wd)),\n",
    "        Dropout(rate),\n",
    "        Dense(128, activation=\"relu\", kernel_regularizer=regularizers.l2(wd)),\n",
    "        Dropout(rate),\n",
    "        Dense(128, activation=\"relu\", kernel_regularizer=regularizers.l2(wd)),\n",
    "        Dropout(rate),\n",
    "        Dense(128, activation=\"relu\", kernel_regularizer=regularizers.l2(wd)),\n",
    "        Dropout(rate),\n",
    "        Dense(128, activation=\"relu\", kernel_regularizer=regularizers.l2(wd)),\n",
    "        Dropout(rate),\n",
    "        Dense(128, activation=\"relu\", kernel_regularizer=regularizers.l2(wd)),\n",
    "        Dropout(rate),\n",
    "        Dense(1)\n",
    "    ])\n",
    "    return model"
   ]
  },
  {
   "cell_type": "code",
   "execution_count": 15,
   "metadata": {},
   "outputs": [],
   "source": [
    "# Re-build the model with weight decay and dropout layers\n",
    "\n",
    "model = get_regularised_model(1e-5, 0.3)"
   ]
  },
  {
   "cell_type": "code",
   "execution_count": 16,
   "metadata": {},
   "outputs": [],
   "source": [
    "# Compile the model\n",
    "\n",
    "model.compile(\n",
    "    optimizer=\"adam\",\n",
    "    loss=\"mse\",\n",
    "    metrics=[\"mae\"]\n",
    ")"
   ]
  },
  {
   "cell_type": "code",
   "execution_count": 17,
   "metadata": {},
   "outputs": [
    {
     "name": "stdout",
     "output_type": "stream",
     "text": [
      "Train on 337 samples, validate on 60 samples\n",
      "Epoch 1/100\n",
      "337/337 [==============================] - 2s 7ms/sample - loss: 0.9784 - mae: 0.8451 - val_loss: 0.9473 - val_mae: 0.8366\n",
      "Epoch 2/100\n",
      "337/337 [==============================] - 0s 557us/sample - loss: 0.9723 - mae: 0.8438 - val_loss: 0.9233 - val_mae: 0.8282\n",
      "Epoch 3/100\n",
      "337/337 [==============================] - 0s 605us/sample - loss: 0.9448 - mae: 0.8326 - val_loss: 0.8577 - val_mae: 0.7979\n",
      "Epoch 4/100\n",
      "337/337 [==============================] - 0s 598us/sample - loss: 0.8686 - mae: 0.7942 - val_loss: 0.7282 - val_mae: 0.7280\n",
      "Epoch 5/100\n",
      "337/337 [==============================] - 0s 589us/sample - loss: 0.7001 - mae: 0.7096 - val_loss: 0.5603 - val_mae: 0.6164\n",
      "Epoch 6/100\n",
      "337/337 [==============================] - 0s 585us/sample - loss: 0.6399 - mae: 0.6547 - val_loss: 0.6264 - val_mae: 0.6291\n",
      "Epoch 7/100\n",
      "337/337 [==============================] - 0s 369us/sample - loss: 0.5431 - mae: 0.5999 - val_loss: 0.5638 - val_mae: 0.6188\n",
      "Epoch 8/100\n",
      "337/337 [==============================] - 0s 584us/sample - loss: 0.5539 - mae: 0.6146 - val_loss: 0.5900 - val_mae: 0.6296\n",
      "Epoch 9/100\n",
      "337/337 [==============================] - 0s 594us/sample - loss: 0.5030 - mae: 0.5748 - val_loss: 0.5704 - val_mae: 0.6264\n",
      "Epoch 10/100\n",
      "337/337 [==============================] - 0s 376us/sample - loss: 0.5009 - mae: 0.5531 - val_loss: 0.6375 - val_mae: 0.6382\n",
      "Epoch 11/100\n",
      "337/337 [==============================] - 0s 609us/sample - loss: 0.5424 - mae: 0.5979 - val_loss: 0.5587 - val_mae: 0.6221\n",
      "Epoch 12/100\n",
      "337/337 [==============================] - 0s 591us/sample - loss: 0.4641 - mae: 0.5572 - val_loss: 0.5982 - val_mae: 0.6319\n",
      "Epoch 13/100\n",
      "337/337 [==============================] - 0s 625us/sample - loss: 0.5072 - mae: 0.5721 - val_loss: 0.5550 - val_mae: 0.6152\n",
      "Epoch 14/100\n",
      "337/337 [==============================] - 0s 586us/sample - loss: 0.5026 - mae: 0.5747 - val_loss: 0.6444 - val_mae: 0.6495\n",
      "Epoch 15/100\n",
      "337/337 [==============================] - 0s 855us/sample - loss: 0.5011 - mae: 0.5710 - val_loss: 0.5695 - val_mae: 0.6298\n",
      "Epoch 16/100\n",
      "337/337 [==============================] - 0s 602us/sample - loss: 0.4847 - mae: 0.5657 - val_loss: 0.6254 - val_mae: 0.6475\n",
      "Epoch 17/100\n",
      "337/337 [==============================] - 0s 613us/sample - loss: 0.4630 - mae: 0.5408 - val_loss: 0.6336 - val_mae: 0.6497\n",
      "Epoch 18/100\n",
      "337/337 [==============================] - 0s 572us/sample - loss: 0.4560 - mae: 0.5372 - val_loss: 0.6136 - val_mae: 0.6415\n",
      "Epoch 19/100\n",
      "337/337 [==============================] - 0s 593us/sample - loss: 0.4760 - mae: 0.5543 - val_loss: 0.6381 - val_mae: 0.6423\n",
      "Epoch 20/100\n",
      "337/337 [==============================] - 0s 605us/sample - loss: 0.4739 - mae: 0.5595 - val_loss: 0.5816 - val_mae: 0.6422\n",
      "Epoch 21/100\n",
      "337/337 [==============================] - 0s 568us/sample - loss: 0.4871 - mae: 0.5560 - val_loss: 0.6221 - val_mae: 0.6351\n",
      "Epoch 22/100\n",
      "337/337 [==============================] - 0s 613us/sample - loss: 0.4173 - mae: 0.5228 - val_loss: 0.5491 - val_mae: 0.6226\n",
      "Epoch 23/100\n",
      "337/337 [==============================] - 0s 582us/sample - loss: 0.4669 - mae: 0.5554 - val_loss: 0.5865 - val_mae: 0.6281\n",
      "Epoch 24/100\n",
      "337/337 [==============================] - 0s 583us/sample - loss: 0.4408 - mae: 0.5314 - val_loss: 0.5658 - val_mae: 0.6193\n",
      "Epoch 25/100\n",
      "337/337 [==============================] - 0s 606us/sample - loss: 0.4403 - mae: 0.5330 - val_loss: 0.5599 - val_mae: 0.6181\n",
      "Epoch 26/100\n",
      "337/337 [==============================] - 0s 575us/sample - loss: 0.4160 - mae: 0.5176 - val_loss: 0.5941 - val_mae: 0.6253\n",
      "Epoch 27/100\n",
      "337/337 [==============================] - 0s 634us/sample - loss: 0.4780 - mae: 0.5507 - val_loss: 0.5976 - val_mae: 0.6359\n",
      "Epoch 28/100\n",
      "337/337 [==============================] - 0s 569us/sample - loss: 0.4224 - mae: 0.5299 - val_loss: 0.5756 - val_mae: 0.6351\n",
      "Epoch 29/100\n",
      "337/337 [==============================] - 0s 585us/sample - loss: 0.4257 - mae: 0.5196 - val_loss: 0.6242 - val_mae: 0.6426\n",
      "Epoch 30/100\n",
      "337/337 [==============================] - 0s 590us/sample - loss: 0.3992 - mae: 0.4908 - val_loss: 0.5925 - val_mae: 0.6355\n",
      "Epoch 31/100\n",
      "337/337 [==============================] - 0s 595us/sample - loss: 0.4285 - mae: 0.5285 - val_loss: 0.5791 - val_mae: 0.6334\n",
      "Epoch 32/100\n",
      "337/337 [==============================] - 0s 594us/sample - loss: 0.4058 - mae: 0.5118 - val_loss: 0.6015 - val_mae: 0.6311\n",
      "Epoch 33/100\n",
      "337/337 [==============================] - 0s 584us/sample - loss: 0.3948 - mae: 0.4985 - val_loss: 0.5838 - val_mae: 0.6250\n",
      "Epoch 34/100\n",
      "337/337 [==============================] - 0s 590us/sample - loss: 0.3849 - mae: 0.4937 - val_loss: 0.5865 - val_mae: 0.6331\n",
      "Epoch 35/100\n",
      "337/337 [==============================] - 0s 581us/sample - loss: 0.4070 - mae: 0.5077 - val_loss: 0.5995 - val_mae: 0.6298\n",
      "Epoch 36/100\n",
      "337/337 [==============================] - 0s 584us/sample - loss: 0.4014 - mae: 0.5008 - val_loss: 0.5744 - val_mae: 0.6290\n",
      "Epoch 37/100\n",
      "337/337 [==============================] - 0s 608us/sample - loss: 0.4118 - mae: 0.5177 - val_loss: 0.5881 - val_mae: 0.6291\n",
      "Epoch 38/100\n",
      "337/337 [==============================] - 0s 584us/sample - loss: 0.3883 - mae: 0.4966 - val_loss: 0.5878 - val_mae: 0.6280\n",
      "Epoch 39/100\n",
      "337/337 [==============================] - 0s 568us/sample - loss: 0.3624 - mae: 0.4756 - val_loss: 0.6161 - val_mae: 0.6377\n",
      "Epoch 40/100\n",
      "337/337 [==============================] - 0s 589us/sample - loss: 0.4018 - mae: 0.5114 - val_loss: 0.5833 - val_mae: 0.6302\n",
      "Epoch 41/100\n",
      "337/337 [==============================] - 0s 605us/sample - loss: 0.4104 - mae: 0.5181 - val_loss: 0.5896 - val_mae: 0.6327\n",
      "Epoch 42/100\n",
      "337/337 [==============================] - 0s 588us/sample - loss: 0.3850 - mae: 0.4935 - val_loss: 0.6106 - val_mae: 0.6349\n",
      "Epoch 43/100\n",
      "337/337 [==============================] - 0s 573us/sample - loss: 0.4031 - mae: 0.5100 - val_loss: 0.5913 - val_mae: 0.6256\n",
      "Epoch 44/100\n",
      "337/337 [==============================] - 0s 623us/sample - loss: 0.3634 - mae: 0.4812 - val_loss: 0.6085 - val_mae: 0.6364\n",
      "Epoch 45/100\n",
      "337/337 [==============================] - 0s 570us/sample - loss: 0.3735 - mae: 0.4939 - val_loss: 0.6059 - val_mae: 0.6409\n",
      "Epoch 46/100\n",
      "337/337 [==============================] - 0s 585us/sample - loss: 0.3919 - mae: 0.4992 - val_loss: 0.6327 - val_mae: 0.6442\n",
      "Epoch 47/100\n",
      "337/337 [==============================] - 0s 597us/sample - loss: 0.3856 - mae: 0.4966 - val_loss: 0.5909 - val_mae: 0.6415\n",
      "Epoch 48/100\n",
      "337/337 [==============================] - 0s 606us/sample - loss: 0.3911 - mae: 0.5021 - val_loss: 0.6009 - val_mae: 0.6385\n",
      "Epoch 49/100\n",
      "337/337 [==============================] - 0s 580us/sample - loss: 0.3948 - mae: 0.4946 - val_loss: 0.6263 - val_mae: 0.6346\n",
      "Epoch 50/100\n",
      "337/337 [==============================] - 0s 616us/sample - loss: 0.4000 - mae: 0.5017 - val_loss: 0.5911 - val_mae: 0.6318\n",
      "Epoch 51/100\n",
      "337/337 [==============================] - 0s 582us/sample - loss: 0.3814 - mae: 0.4784 - val_loss: 0.6250 - val_mae: 0.6409\n",
      "Epoch 52/100\n",
      "337/337 [==============================] - 0s 605us/sample - loss: 0.4221 - mae: 0.5166 - val_loss: 0.5832 - val_mae: 0.6247\n",
      "Epoch 53/100\n",
      "337/337 [==============================] - 0s 602us/sample - loss: 0.3777 - mae: 0.4894 - val_loss: 0.6373 - val_mae: 0.6372\n",
      "Epoch 54/100\n",
      "337/337 [==============================] - 0s 604us/sample - loss: 0.3725 - mae: 0.4900 - val_loss: 0.5625 - val_mae: 0.6236\n",
      "Epoch 55/100\n",
      "337/337 [==============================] - 0s 571us/sample - loss: 0.3609 - mae: 0.4771 - val_loss: 0.6386 - val_mae: 0.6429\n",
      "Epoch 56/100\n",
      "337/337 [==============================] - 0s 620us/sample - loss: 0.3832 - mae: 0.4858 - val_loss: 0.6037 - val_mae: 0.6302\n",
      "Epoch 57/100\n",
      "337/337 [==============================] - 0s 587us/sample - loss: 0.3482 - mae: 0.4714 - val_loss: 0.5909 - val_mae: 0.6265\n",
      "Epoch 58/100\n",
      "337/337 [==============================] - 0s 592us/sample - loss: 0.3791 - mae: 0.4906 - val_loss: 0.5774 - val_mae: 0.6305\n",
      "Epoch 59/100\n",
      "337/337 [==============================] - 0s 584us/sample - loss: 0.3784 - mae: 0.4849 - val_loss: 0.6202 - val_mae: 0.6317\n",
      "Epoch 60/100\n"
     ]
    },
    {
     "name": "stdout",
     "output_type": "stream",
     "text": [
      "337/337 [==============================] - 0s 604us/sample - loss: 0.3986 - mae: 0.5024 - val_loss: 0.6056 - val_mae: 0.6288\n",
      "Epoch 61/100\n",
      "337/337 [==============================] - 0s 580us/sample - loss: 0.3506 - mae: 0.4735 - val_loss: 0.6071 - val_mae: 0.6354\n",
      "Epoch 62/100\n",
      "337/337 [==============================] - 0s 585us/sample - loss: 0.3730 - mae: 0.4794 - val_loss: 0.6309 - val_mae: 0.6410\n",
      "Epoch 63/100\n",
      "337/337 [==============================] - 0s 607us/sample - loss: 0.3732 - mae: 0.4803 - val_loss: 0.5609 - val_mae: 0.6180\n",
      "Epoch 64/100\n",
      "337/337 [==============================] - 0s 591us/sample - loss: 0.3384 - mae: 0.4577 - val_loss: 0.6162 - val_mae: 0.6105\n",
      "Epoch 65/100\n",
      "337/337 [==============================] - 0s 580us/sample - loss: 0.3678 - mae: 0.4816 - val_loss: 0.5433 - val_mae: 0.5893\n",
      "Epoch 66/100\n",
      "337/337 [==============================] - 0s 580us/sample - loss: 0.3776 - mae: 0.4983 - val_loss: 0.5595 - val_mae: 0.6043\n",
      "Epoch 67/100\n",
      "337/337 [==============================] - 0s 587us/sample - loss: 0.3622 - mae: 0.4790 - val_loss: 0.6059 - val_mae: 0.6266\n",
      "Epoch 68/100\n",
      "337/337 [==============================] - 0s 592us/sample - loss: 0.3388 - mae: 0.4546 - val_loss: 0.6193 - val_mae: 0.6316\n",
      "Epoch 69/100\n",
      "337/337 [==============================] - 0s 579us/sample - loss: 0.3430 - mae: 0.4694 - val_loss: 0.6492 - val_mae: 0.6402\n",
      "Epoch 70/100\n",
      "337/337 [==============================] - 0s 604us/sample - loss: 0.3388 - mae: 0.4592 - val_loss: 0.6071 - val_mae: 0.6357\n",
      "Epoch 71/100\n",
      "337/337 [==============================] - 0s 612us/sample - loss: 0.3490 - mae: 0.4727 - val_loss: 0.6459 - val_mae: 0.6465\n",
      "Epoch 72/100\n",
      "337/337 [==============================] - 0s 581us/sample - loss: 0.3350 - mae: 0.4650 - val_loss: 0.6097 - val_mae: 0.6268\n",
      "Epoch 73/100\n",
      "337/337 [==============================] - 0s 590us/sample - loss: 0.3651 - mae: 0.4791 - val_loss: 0.6129 - val_mae: 0.6198\n",
      "Epoch 74/100\n",
      "337/337 [==============================] - 0s 587us/sample - loss: 0.3215 - mae: 0.4548 - val_loss: 0.6405 - val_mae: 0.6276\n",
      "Epoch 75/100\n",
      "337/337 [==============================] - 0s 585us/sample - loss: 0.3557 - mae: 0.4652 - val_loss: 0.6495 - val_mae: 0.6368\n",
      "Epoch 76/100\n",
      "337/337 [==============================] - 0s 601us/sample - loss: 0.3430 - mae: 0.4615 - val_loss: 0.6362 - val_mae: 0.6317\n",
      "Epoch 77/100\n",
      "337/337 [==============================] - 0s 590us/sample - loss: 0.3127 - mae: 0.4342 - val_loss: 0.6353 - val_mae: 0.6246\n",
      "Epoch 78/100\n",
      "337/337 [==============================] - 0s 602us/sample - loss: 0.3424 - mae: 0.4584 - val_loss: 0.6146 - val_mae: 0.6119\n",
      "Epoch 79/100\n",
      "337/337 [==============================] - 0s 562us/sample - loss: 0.3309 - mae: 0.4553 - val_loss: 0.5972 - val_mae: 0.6026\n",
      "Epoch 80/100\n",
      "337/337 [==============================] - 0s 593us/sample - loss: 0.3214 - mae: 0.4527 - val_loss: 0.6302 - val_mae: 0.6211\n",
      "Epoch 81/100\n",
      "337/337 [==============================] - 0s 602us/sample - loss: 0.3280 - mae: 0.4642 - val_loss: 0.6432 - val_mae: 0.6352\n",
      "Epoch 82/100\n",
      "337/337 [==============================] - 0s 581us/sample - loss: 0.3140 - mae: 0.4423 - val_loss: 0.6859 - val_mae: 0.6404\n",
      "Epoch 83/100\n",
      "337/337 [==============================] - 0s 582us/sample - loss: 0.3295 - mae: 0.4516 - val_loss: 0.6917 - val_mae: 0.6384\n",
      "Epoch 84/100\n",
      "337/337 [==============================] - 0s 588us/sample - loss: 0.3693 - mae: 0.4782 - val_loss: 0.6225 - val_mae: 0.6324\n",
      "Epoch 85/100\n",
      "337/337 [==============================] - 0s 603us/sample - loss: 0.3217 - mae: 0.4527 - val_loss: 0.6653 - val_mae: 0.6350\n",
      "Epoch 86/100\n",
      "337/337 [==============================] - 0s 582us/sample - loss: 0.3514 - mae: 0.4583 - val_loss: 0.6398 - val_mae: 0.6359\n",
      "Epoch 87/100\n",
      "337/337 [==============================] - 0s 586us/sample - loss: 0.3303 - mae: 0.4485 - val_loss: 0.6501 - val_mae: 0.6402\n",
      "Epoch 88/100\n",
      "337/337 [==============================] - 0s 622us/sample - loss: 0.3265 - mae: 0.4494 - val_loss: 0.6180 - val_mae: 0.6390\n",
      "Epoch 89/100\n",
      "337/337 [==============================] - 0s 562us/sample - loss: 0.3227 - mae: 0.4587 - val_loss: 0.6456 - val_mae: 0.6421\n",
      "Epoch 90/100\n",
      "337/337 [==============================] - 0s 608us/sample - loss: 0.3185 - mae: 0.4431 - val_loss: 0.6917 - val_mae: 0.6360\n",
      "Epoch 91/100\n",
      "337/337 [==============================] - 0s 592us/sample - loss: 0.3263 - mae: 0.4567 - val_loss: 0.5986 - val_mae: 0.6175\n",
      "Epoch 92/100\n",
      "337/337 [==============================] - 0s 576us/sample - loss: 0.3276 - mae: 0.4594 - val_loss: 0.6466 - val_mae: 0.6185\n",
      "Epoch 93/100\n",
      "337/337 [==============================] - 0s 584us/sample - loss: 0.3185 - mae: 0.4414 - val_loss: 0.6236 - val_mae: 0.6191\n",
      "Epoch 94/100\n",
      "337/337 [==============================] - 0s 588us/sample - loss: 0.2988 - mae: 0.4315 - val_loss: 0.6255 - val_mae: 0.6259\n",
      "Epoch 95/100\n",
      "337/337 [==============================] - 0s 594us/sample - loss: 0.3248 - mae: 0.4573 - val_loss: 0.6139 - val_mae: 0.6270\n",
      "Epoch 96/100\n",
      "337/337 [==============================] - 0s 583us/sample - loss: 0.3050 - mae: 0.4402 - val_loss: 0.6444 - val_mae: 0.6367\n",
      "Epoch 97/100\n",
      "337/337 [==============================] - 0s 622us/sample - loss: 0.3198 - mae: 0.4430 - val_loss: 0.6186 - val_mae: 0.6247\n",
      "Epoch 98/100\n",
      "337/337 [==============================] - 0s 527us/sample - loss: 0.3369 - mae: 0.4614 - val_loss: 0.6407 - val_mae: 0.6275\n",
      "Epoch 99/100\n",
      "337/337 [==============================] - 0s 362us/sample - loss: 0.3124 - mae: 0.4493 - val_loss: 0.6726 - val_mae: 0.6358\n",
      "Epoch 100/100\n",
      "337/337 [==============================] - 0s 595us/sample - loss: 0.3070 - mae: 0.4400 - val_loss: 0.6969 - val_mae: 0.6562\n"
     ]
    }
   ],
   "source": [
    "# Train the model, with some of the data reserved for validation\n",
    "\n",
    "hostory = model.fit(train_data, train_targets, epochs=100, validation_split=0.15, batch_size=64, verbose=1)"
   ]
  },
  {
   "cell_type": "code",
   "execution_count": 18,
   "metadata": {},
   "outputs": [
    {
     "name": "stdout",
     "output_type": "stream",
     "text": [
      "45/1 - 0s - loss: 1.2828 - mae: 0.8276\n"
     ]
    },
    {
     "data": {
      "text/plain": [
       "[1.041040301322937, 0.8276006]"
      ]
     },
     "execution_count": 18,
     "metadata": {},
     "output_type": "execute_result"
    }
   ],
   "source": [
    "# Evaluate the model on the test set\n",
    "\n",
    "model.evaluate(test_data, test_targets, verbose=2)"
   ]
  },
  {
   "cell_type": "markdown",
   "metadata": {},
   "source": [
    "#### Plot the learning curves"
   ]
  },
  {
   "cell_type": "code",
   "execution_count": 19,
   "metadata": {},
   "outputs": [
    {
     "data": {
      "image/png": "[encoded data removed]",
      "text/plain": [
       "<Figure size 432x288 with 1 Axes>"
      ]
     },
     "metadata": {
      "needs_background": "light"
     },
     "output_type": "display_data"
    }
   ],
   "source": [
    "# Plot the training and validation loss\n",
    "\n",
    "import matplotlib.pyplot as plt\n",
    "\n",
    "plt.plot(history.history['loss'])\n",
    "plt.plot(history.history['val_loss'])\n",
    "plt.title('Loss vs. epochs')\n",
    "plt.ylabel('Loss')\n",
    "plt.xlabel('Epoch')\n",
    "plt.legend(['Training', 'Validation'], loc='upper right')\n",
    "plt.show()\n",
    "\n",
    "# Overfitting is not completely fixed but there is an improvement from before"
   ]
  },
  {
   "cell_type": "markdown",
   "metadata": {},
   "source": [
    "***\n",
    "<a id=\"coding_tutorial_3\"></a>\n",
    "## Introduction to callbacks"
   ]
  },
  {
   "cell_type": "markdown",
   "metadata": {},
   "source": [
    "#### Example training callback"
   ]
  },
  {
   "cell_type": "code",
   "execution_count": 20,
   "metadata": {},
   "outputs": [],
   "source": [
    "# Write a custom callback\n",
    "\n",
    "from tensorflow.keras.callbacks import Callback\n",
    "\n",
    "class TrainingCallback(Callback):\n",
    "    def on_train_begin(self, logs=None):\n",
    "        # Do something once at the start of training.\n",
    "        print(\"Starting training...\")\n",
    "\n",
    "    def on_train_batch_begin(self, batch, logs=None):\n",
    "        # Do something at the start of every batch iteration. The batch number is passed as the batch argument.\n",
    "        print(f\"Training: Starting batch {batch}\")\n",
    "\n",
    "    def on_epoch_begin(self, epoch, logs=None):\n",
    "        # Do something at the end of every epoch. The epoch number is passed as the epoch argument.\n",
    "        print(f\"Starting epoch {epoch}\")\n",
    "        \n",
    "    def on_train_end(self, logs=None):\n",
    "        # Do something once at the start of training.\n",
    "        print(\"Finished training.\")\n",
    "\n",
    "    def on_train_batch_end(self, batch, logs=None):\n",
    "        # Do something at the start of every batch iteration. The batch number is passed as the batch argument.\n",
    "        print(f\"Training: Finished batch {batch}\")\n",
    "\n",
    "    def on_epoch_end(self, epoch, logs=None):\n",
    "        # Do something at the end of every epoch. The epoch number is passed as the epoch argument.\n",
    "        print(f\"Finished epoch {epoch}\")\n",
    "           \n",
    "class TestingCallback(Callback):\n",
    "    def on_test_begin(self, logs=None):\n",
    "        # Do something once at the start of training.\n",
    "        print(\"Starting testing...\")\n",
    "\n",
    "    def on_test_batch_begin(self, batch, logs=None):\n",
    "        # Do something at the start of every batch iteration. The batch number is passed as the batch argument.\n",
    "        print(f\"Testing: Starting batch {batch}\")\n",
    "\n",
    "    def on_epoch_begin(self, epoch, logs=None):\n",
    "        # Do something at the end of every epoch. The epoch number is passed as the epoch argument.\n",
    "        print(f\"Starting epoch {epoch}\")\n",
    "        \n",
    "    def on_test_end(self, logs=None):\n",
    "        # Do something once at the start of training.\n",
    "        print(\"Finished testing.\")\n",
    "\n",
    "    def on_test_batch_end(self, batch, logs=None):\n",
    "        # Do something at the start of every batch iteration. The batch number is passed as the batch argument.\n",
    "        print(f\"Testing: Finished batch {batch}\")\n",
    "\n",
    "    def on_epoch_end(self, epoch, logs=None):\n",
    "        # Do something at the end of every epoch. The epoch number is passed as the epoch argument.\n",
    "        print(f\"Finished epoch {epoch}\")\n",
    "        \n",
    "class PredictionCallback(Callback):\n",
    "    def on_predict_begin(self, logs=None):\n",
    "        # Do something once at the start of training.\n",
    "        print(\"Starting prediction...\")\n",
    "\n",
    "    def on_predict_batch_begin(self, batch, logs=None):\n",
    "        # Do something at the start of every batch iteration. The batch number is passed as the batch argument.\n",
    "        print(f\"Prediction: Starting batch {batch}\")\n",
    "\n",
    "    def on_epoch_begin(self, epoch, logs=None):\n",
    "        # Do something at the end of every epoch. The epoch number is passed as the epoch argument.\n",
    "        print(f\"Starting epoch {epoch}\")\n",
    "        \n",
    "    def on_predict_end(self, logs=None):\n",
    "        # Do something once at the start of training.\n",
    "        print(\"Finished prediction.\")\n",
    "\n",
    "    def on_predict_batch_end(self, batch, logs=None):\n",
    "        # Do something at the start of every batch iteration. The batch number is passed as the batch argument.\n",
    "        print(f\"Prediction: Finished batch {batch}\")\n",
    "\n",
    "    def on_epoch_end(self, epoch, logs=None):\n",
    "        # Do something at the end of every epoch. The epoch number is passed as the epoch argument.\n",
    "        print(f\"Finished epoch {epoch}\")"
   ]
  },
  {
   "cell_type": "code",
   "execution_count": 21,
   "metadata": {},
   "outputs": [],
   "source": [
    "# Re-build the model\n",
    "\n",
    "model = get_regularised_model(1e-5, 0.3)\n"
   ]
  },
  {
   "cell_type": "code",
   "execution_count": 22,
   "metadata": {},
   "outputs": [],
   "source": [
    "# Compile the model\n",
    "\n",
    "model.compile(\n",
    "    optimizer=\"adam\",\n",
    "    loss=\"mse\"\n",
    ")"
   ]
  },
  {
   "cell_type": "markdown",
   "metadata": {},
   "source": [
    "#### Train the model with the callback"
   ]
  },
  {
   "cell_type": "code",
   "execution_count": 23,
   "metadata": {},
   "outputs": [
    {
     "name": "stdout",
     "output_type": "stream",
     "text": [
      "Starting training...\n",
      "Starting epoch 0\n",
      "Training: Starting batch 0\n",
      "Training: Finished batch 0\n",
      "Training: Starting batch 1\n",
      "Training: Finished batch 1\n",
      "Training: Starting batch 2\n",
      "Training: Finished batch 2\n",
      "Training: Starting batch 3\n",
      "Training: Finished batch 3\n",
      "Finished epoch 0\n",
      "Starting epoch 1\n",
      "Training: Starting batch 0\n",
      "Training: Finished batch 0\n",
      "Training: Starting batch 1\n",
      "Training: Finished batch 1\n",
      "Training: Starting batch 2\n",
      "Training: Finished batch 2\n",
      "Training: Starting batch 3\n",
      "Training: Finished batch 3\n",
      "Finished epoch 1\n",
      "Starting epoch 2\n",
      "Training: Starting batch 0\n",
      "Training: Finished batch 0\n",
      "Training: Starting batch 1\n",
      "Training: Finished batch 1\n",
      "Training: Starting batch 2\n",
      "Training: Finished batch 2\n",
      "Training: Starting batch 3\n",
      "Training: Finished batch 3\n",
      "Finished epoch 2\n",
      "Finished training.\n"
     ]
    },
    {
     "data": {
      "text/plain": [
       "<tensorflow.python.keras.callbacks.History at 0x7ff6644a9d30>"
      ]
     },
     "execution_count": 23,
     "metadata": {},
     "output_type": "execute_result"
    }
   ],
   "source": [
    "# Train the model, with some of the data reserved for validation\n",
    "\n",
    "model.fit(train_data, train_targets, epochs=3, batch_size=128, verbose=False, callbacks=[TrainingCallback()])"
   ]
  },
  {
   "cell_type": "code",
   "execution_count": 24,
   "metadata": {},
   "outputs": [
    {
     "name": "stdout",
     "output_type": "stream",
     "text": [
      "Starting testing...\n",
      "Testing: Starting batch 0\n",
      "Testing: Finished batch 0\n",
      "Testing: Starting batch 1\n",
      "Testing: Finished batch 1\n",
      "Finished testing.\n"
     ]
    },
    {
     "data": {
      "text/plain": [
       "1.2510231335957844"
      ]
     },
     "execution_count": 24,
     "metadata": {},
     "output_type": "execute_result"
    }
   ],
   "source": [
    "# Evaluate the model\n",
    "\n",
    "model.evaluate(test_data, test_targets, verbose=False, callbacks=[TestingCallback()])"
   ]
  },
  {
   "cell_type": "code",
   "execution_count": 25,
   "metadata": {},
   "outputs": [
    {
     "name": "stdout",
     "output_type": "stream",
     "text": [
      "Starting prediction...\n",
      "Prediction: Starting batch 0\n",
      "Prediction: Finished batch 0\n",
      "Prediction: Starting batch 1\n",
      "Prediction: Finished batch 1\n",
      "Finished prediction.\n"
     ]
    },
    {
     "data": {
      "text/plain": [
       "array([[-0.03030959],\n",
       "       [-0.02799865],\n",
       "       [-0.03763044],\n",
       "       [-0.0292721 ],\n",
       "       [ 0.04840418],\n",
       "       [-0.02954401],\n",
       "       [ 0.02638041],\n",
       "       [ 0.02802172],\n",
       "       [ 0.02266565],\n",
       "       [ 0.0009416 ],\n",
       "       [-0.00250819],\n",
       "       [-0.04637506],\n",
       "       [ 0.04162922],\n",
       "       [ 0.02811241],\n",
       "       [ 0.00352065],\n",
       "       [-0.0075093 ],\n",
       "       [-0.02935537],\n",
       "       [ 0.00985476],\n",
       "       [ 0.02934803],\n",
       "       [ 0.02204369],\n",
       "       [ 0.00981175],\n",
       "       [ 0.01939288],\n",
       "       [ 0.03158706],\n",
       "       [-0.0461771 ],\n",
       "       [-0.05104598],\n",
       "       [-0.00803611],\n",
       "       [-0.0246179 ],\n",
       "       [ 0.05130367],\n",
       "       [ 0.00129329],\n",
       "       [-0.0272558 ],\n",
       "       [ 0.01767087],\n",
       "       [-0.01296078],\n",
       "       [ 0.03321268],\n",
       "       [-0.02003663],\n",
       "       [-0.0383788 ],\n",
       "       [-0.01029358],\n",
       "       [-0.01772869],\n",
       "       [ 0.02025996],\n",
       "       [-0.04489929],\n",
       "       [-0.01954331],\n",
       "       [ 0.02536343],\n",
       "       [ 0.02167996],\n",
       "       [-0.03473367],\n",
       "       [ 0.03031677],\n",
       "       [-0.00188343]], dtype=float32)"
      ]
     },
     "execution_count": 25,
     "metadata": {},
     "output_type": "execute_result"
    }
   ],
   "source": [
    "# Make predictions with the model\n",
    "\n",
    "model.predict(test_data, verbose=False, callbacks=[PredictionCallback()])"
   ]
  },
  {
   "cell_type": "markdown",
   "metadata": {},
   "source": [
    "***\n",
    "<a id=\"coding_tutorial_4\"></a>\n",
    "## Early stopping / patience"
   ]
  },
  {
   "cell_type": "markdown",
   "metadata": {},
   "source": [
    "#### Re-train the models with early stopping"
   ]
  },
  {
   "cell_type": "code",
   "execution_count": 39,
   "metadata": {},
   "outputs": [],
   "source": [
    "# Re-train the unregularised model\n",
    "\n",
    "unregularized_model = get_model()\n",
    "unregularized_model.compile(optimizer=\"adam\", loss=\"mse\")\n",
    "unreg_history = unregularized_model.fit(train_data, train_targets, epochs=100, validation_split=0.15, batch_size=64, verbose=False, callbacks=[tf.keras.callbacks.EarlyStopping(patience=2)])"
   ]
  },
  {
   "cell_type": "code",
   "execution_count": 40,
   "metadata": {},
   "outputs": [
    {
     "name": "stdout",
     "output_type": "stream",
     "text": [
      "45/1 - 0s - loss: 1.1108\n"
     ]
    },
    {
     "data": {
      "text/plain": [
       "0.9586891995535957"
      ]
     },
     "execution_count": 40,
     "metadata": {},
     "output_type": "execute_result"
    }
   ],
   "source": [
    "# Evaluate the model on the test set\n",
    "\n",
    "unregularized_model.evaluate(test_data, test_targets, verbose=2)"
   ]
  },
  {
   "cell_type": "code",
   "execution_count": 41,
   "metadata": {},
   "outputs": [],
   "source": [
    "# Re-train the regularised model\n",
    "\n",
    "regularized_model = get_regularised_model(1e-8, 0.2)\n",
    "regularized_model.compile(optimizer=\"adam\", loss=\"mse\")\n",
    "reg_history = regularized_model.fit(train_data, train_targets, epochs=100, validation_split=0.15, batch_size=64, verbose=False, callbacks=[tf.keras.callbacks.EarlyStopping(patience=2)])"
   ]
  },
  {
   "cell_type": "code",
   "execution_count": 42,
   "metadata": {},
   "outputs": [
    {
     "name": "stdout",
     "output_type": "stream",
     "text": [
      "45/1 - 0s - loss: 1.1628\n"
     ]
    },
    {
     "data": {
      "text/plain": [
       "1.2510231335957844"
      ]
     },
     "execution_count": 42,
     "metadata": {},
     "output_type": "execute_result"
    }
   ],
   "source": [
    "# Evaluate the model on the test set\n",
    "\n",
    "model.evaluate(test_data, test_targets, verbose=2)"
   ]
  },
  {
   "cell_type": "markdown",
   "metadata": {},
   "source": [
    "#### Plot the learning curves"
   ]
  },
  {
   "cell_type": "code",
   "execution_count": 33,
   "metadata": {},
   "outputs": [
    {
     "data": {
      "image/png": "[encoded data removed]",
      "text/plain": [
       "<Figure size 864x360 with 2 Axes>"
      ]
     },
     "metadata": {
      "needs_background": "light"
     },
     "output_type": "display_data"
    }
   ],
   "source": [
    "# Plot the training and validation loss\n",
    "\n",
    "import matplotlib.pyplot as plt\n",
    "\n",
    "fig = plt.figure(figsize=(12, 5))\n",
    "\n",
    "fig.add_subplot(121)\n",
    "\n",
    "plt.plot(unreg_history.history['loss'])\n",
    "plt.plot(unreg_history.history['val_loss'])\n",
    "plt.title('Unregularised model: loss vs. epochs')\n",
    "plt.ylabel('Loss')\n",
    "plt.xlabel('Epoch')\n",
    "plt.legend(['Training', 'Validation'], loc='upper right')\n",
    "\n",
    "fig.add_subplot(122)\n",
    "\n",
    "plt.plot(reg_history.history['loss'])\n",
    "plt.plot(reg_history.history['val_loss'])\n",
    "plt.title('Regularised model: loss vs. epochs')\n",
    "plt.ylabel('Loss')\n",
    "plt.xlabel('Epoch')\n",
    "plt.legend(['Training', 'Validation'], loc='upper right')\n",
    "\n",
    "plt.show()"
   ]
  },
  {
   "cell_type": "code",
   "execution_count": 38,
   "metadata": {},
   "outputs": [
    {
     "data": {
      "image/png": "[encoded data removed]",
      "text/plain": [
       "<Figure size 864x360 with 2 Axes>"
      ]
     },
     "metadata": {
      "needs_background": "light"
     },
     "output_type": "display_data"
    }
   ],
   "source": [
    "# Plot the training and validation loss - with patience 10\n",
    "\n",
    "import matplotlib.pyplot as plt\n",
    "\n",
    "fig = plt.figure(figsize=(12, 5))\n",
    "\n",
    "fig.add_subplot(121)\n",
    "\n",
    "plt.plot(unreg_history.history['loss'])\n",
    "plt.plot(unreg_history.history['val_loss'])\n",
    "plt.title('Unregularised model: loss vs. epochs')\n",
    "plt.ylabel('Loss')\n",
    "plt.xlabel('Epoch')\n",
    "plt.legend(['Training', 'Validation'], loc='upper right')\n",
    "\n",
    "fig.add_subplot(122)\n",
    "\n",
    "plt.plot(reg_history.history['loss'])\n",
    "plt.plot(reg_history.history['val_loss'])\n",
    "plt.title('Regularised model: loss vs. epochs')\n",
    "plt.ylabel('Loss')\n",
    "plt.xlabel('Epoch')\n",
    "plt.legend(['Training', 'Validation'], loc='upper right')\n",
    "\n",
    "plt.show()"
   ]
  },
  {
   "cell_type": "code",
   "execution_count": 43,
   "metadata": {},
   "outputs": [
    {
     "data": {
      "image/png": "[encoded data removed]",
      "text/plain": [
       "<Figure size 864x360 with 2 Axes>"
      ]
     },
     "metadata": {
      "needs_background": "light"
     },
     "output_type": "display_data"
    }
   ],
   "source": [
    "# Plot the training and validation loss - with patience 2\n",
    "\n",
    "import matplotlib.pyplot as plt\n",
    "\n",
    "fig = plt.figure(figsize=(12, 5))\n",
    "\n",
    "fig.add_subplot(121)\n",
    "\n",
    "plt.plot(unreg_history.history['loss'])\n",
    "plt.plot(unreg_history.history['val_loss'])\n",
    "plt.title('Unregularised model: loss vs. epochs')\n",
    "plt.ylabel('Loss')\n",
    "plt.xlabel('Epoch')\n",
    "plt.legend(['Training', 'Validation'], loc='upper right')\n",
    "\n",
    "fig.add_subplot(122)\n",
    "\n",
    "plt.plot(reg_history.history['loss'])\n",
    "plt.plot(reg_history.history['val_loss'])\n",
    "plt.title('Regularised model: loss vs. epochs')\n",
    "plt.ylabel('Loss')\n",
    "plt.xlabel('Epoch')\n",
    "plt.legend(['Training', 'Validation'], loc='upper right')\n",
    "\n",
    "plt.show()"
   ]
  },
  {
   "cell_type": "code",
   "execution_count": null,
   "metadata": {},
   "outputs": [],
   "source": []
  }
 ],
 "metadata": {
  "kernelspec": {
   "display_name": "Python 3",
   "language": "python",
   "name": "python3"
  },
  "language_info": {
   "codemirror_mode": {
    "name": "ipython",
    "version": 3
   },
   "file_extension": ".py",
   "mimetype": "text/x-python",
   "name": "python",
   "nbconvert_exporter": "python",
   "pygments_lexer": "ipython3",
   "version": "3.7.1"
  }
 },
 "nbformat": 4,
 "nbformat_minor": 2
}
